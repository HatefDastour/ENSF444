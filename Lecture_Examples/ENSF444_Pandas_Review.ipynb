{
  "cells": [
    {
      "cell_type": "markdown",
      "metadata": {
        "id": "lUglt1t9ecXm"
      },
      "source": [
        "# Pandas Review\n",
        "\n",
        "Pandas is a Python library that is open-source and provides powerful data structures and tools for data analysis. It aims to make data manipulation and analysis tasks easier and faster. The name “Pandas” comes from “Panel Data,” which are multi-dimensional structured datasets often used in econometrics and finance [Pandas Developers, 2023]."
      ]
    },
    {
      "cell_type": "markdown",
      "metadata": {
        "id": "IXoY1x5eewL5"
      },
      "source": [
        "## Data Structures:\n",
        "\n",
        "1. **Series**: A Series is like a one-dimensional array with labels, similar to a NumPy array with an index. The index gives each element in the Series a meaningful name, making it easy to align and access data [Pandas Developers, 2023].\n",
        "\n",
        "2. **DataFrame**: A DataFrame is a two-dimensional data structure with labels, similar to a spreadsheet or SQL table. It has rows and columns, and each column can hold different data types. DataFrames are powerful and flexible tools for working with structured data, allowing operations such as filtering, joining, grouping, and more [Pandas Developers, 2023].\n",
        "\n",
        "\n",
        "<font color='Blue'><b>Example - Series:</b></font> A Pandas Series object can be instantiated through the implementation of the [pd.Series](https://pandas.pydata.org/docs/reference/api/pandas.Series.html) constructor."
      ]
    },
    {
      "cell_type": "code",
      "execution_count": null,
      "metadata": {
        "id": "kNbTSNcSe585"
      },
      "outputs": [],
      "source": [
        "import pandas as pd\n",
        "\n",
        "# Create a Pandas Series with custom index\n",
        "data = pd.Series([10, 20, 30, 40], index=['A', 'B', 'C', 'D'])\n",
        "\n",
        "# Print the Pandas Series\n",
        "print(\"Pandas Series:\")\n",
        "print(data)"
      ]
    },
    {
      "cell_type": "markdown",
      "metadata": {
        "id": "w-m6Oz8je7YS"
      },
      "source": [
        "<font color='Blue'><b>Example - DataFrame:</b></font> A Pandas DataFrame object can be created by utilizing the [pd.DataFrame](https://pandas.pydata.org/docs/reference/api/pandas.DataFrame.html) constructor."
      ]
    },
    {
      "cell_type": "code",
      "execution_count": null,
      "metadata": {
        "id": "StjoVTZLe7_L"
      },
      "outputs": [],
      "source": [
        "import pandas as pd\n",
        "\n",
        "# Create a DataFrame from a dictionary\n",
        "# Create a sample DataFrame\n",
        "data = {'Name': ['Alice', 'Bob', 'Charlie'],\n",
        "        'Age': [25, 30, 22],\n",
        "        'City': ['Calgary', 'Edmonton', 'Red Deer']\n",
        "        }\n",
        "\n",
        "df = pd.DataFrame(data)\n",
        "\n",
        "# Display the DataFrame\n",
        "print(\"DataFrame:\")\n",
        "display(df)\n",
        "\n",
        "# Alice, Bob, and Charlie serve as fictitious characters usually employed as placeholders in discussions pertaining to cryptographic systems and protocols."
      ]
    },
    {
      "cell_type": "markdown",
      "metadata": {
        "id": "yQ3Il6NjjR4W"
      },
      "source": [
        "## Reading and Writing Data:\n",
        "\n",
        "Pandas is a powerful Python library that provides data manipulation and analysis tools. It's widely used for tasks like reading and writing data in various formats. Here's how you can use Pandas to read and write data [Pandas Developers, 2023]:"
      ]
    },
    {
      "cell_type": "markdown",
      "metadata": {
        "id": "jpCzTrKmjUj-"
      },
      "source": [
        "### Reading Data\n",
        "\n",
        "Pandas can read data from various file formats like CSV, Excel, SQL databases, and more. The most commonly used method is `pandas.read_csv()` for reading CSV files."
      ]
    },
    {
      "cell_type": "code",
      "source": [
        "# Population estimates, quarterly\n",
        "# https://www150.statcan.gc.ca/t1/tbl1/en/tv.action?pid=1710000901\n",
        "\n",
        "# Download the zip file using wget\n",
        "!wget -N \"https://www150.statcan.gc.ca/n1/tbl/csv/17100009-eng.zip\"\n",
        "# Unzip the downloaded zip file\n",
        "!unzip -o 17100009-eng.zip 17100009.csv\n",
        "\n",
        "# Remove the downloaded zip file after extraction\n",
        "!rm -r 17100009-eng.zip"
      ],
      "metadata": {
        "id": "xTYX56DZvZkL"
      },
      "execution_count": null,
      "outputs": []
    },
    {
      "cell_type": "code",
      "execution_count": null,
      "metadata": {
        "id": "_00krEq6jXRq"
      },
      "outputs": [],
      "source": [
        "import pandas as pd\n",
        "\n",
        "# Read a CSV file into a DataFrame\n",
        "df = pd.read_csv('17100009.csv', usecols = ['REF_DATE','GEO', 'VALUE'])\n",
        "\n",
        "# Display the DataFrame\n",
        "print(\"The DataFrame:\")\n",
        "display(df)"
      ]
    },
    {
      "cell_type": "markdown",
      "metadata": {
        "id": "GcgcJYymjs2R"
      },
      "source": [
        "### Writing and Exporting Data\n",
        "\n",
        "Pandas provides a versatile set of tools for exporting data to a variety of formats. One of the frequently employed techniques is using the `DataFrame.to_csv()` method, which facilitates the export of data to a CSV (Comma-Separated Values) file:"
      ]
    },
    {
      "cell_type": "code",
      "execution_count": null,
      "metadata": {
        "id": "hzSxkW5Sjtsp"
      },
      "outputs": [],
      "source": [
        "import pandas as pd\n",
        "\n",
        "# Create a sample DataFrame\n",
        "data = {'Name': ['Alice', 'Bob', 'Charlie'],\n",
        "        'Age': [25, 30, 22],\n",
        "        'City': ['Calgary', 'Edmonton', 'Red Deer']\n",
        "        }\n",
        "\n",
        "df = pd.DataFrame(data)\n",
        "\n",
        "# Write the DataFrame to a CSV file\n",
        "csv_filename = 'data.csv'\n",
        "df.to_csv(csv_filename, index=False)\n",
        "\n",
        "# Print a message indicating that the data has been written\n",
        "print(f\"Data written to {csv_filename}\")"
      ]
    },
    {
      "cell_type": "markdown",
      "metadata": {
        "id": "cn2yDFUSfiH6"
      },
      "source": [
        "## Pandas Basics\n",
        "\n",
        "\n",
        "| Command                    | Description                                                               |\n",
        "|----------------------------|---------------------------------------------------------------------------|\n",
        "| `pd.DataFrame(data)`       | Create a DataFrame from data like a dictionary, array, or list.           |\n",
        "| `data.info()`              | Display basic information about the DataFrame, including data types and non-null counts. |\n",
        "| `data.head(n)`             | Display the first n rows of the DataFrame (default is 5).                |\n",
        "| `data.tail(n)`             | Display the last n rows of the DataFrame (default is 5).                 |\n",
        "| `data.describe()`          | Display summary statistics of numerical columns (count, mean, std, min, max, quartiles). |\n",
        "| `data.shape`               | Returns the number of rows and columns in the DataFrame as a tuple.      |\n",
        "| `data.columns`             | Access the column labels of the DataFrame.                                |\n"
      ]
    },
    {
      "cell_type": "code",
      "execution_count": null,
      "metadata": {
        "id": "-s_MrcQkfqjC"
      },
      "outputs": [],
      "source": [
        "import pandas as pd\n",
        "import numpy as np\n",
        "\n",
        "# Create the DataFrame\n",
        "data = pd.DataFrame({'A': np.arange(0, 100),\n",
        "                     'B': np.arange(1000, 900, -1)})\n",
        "\n",
        "# Display basic DataFrame information\n",
        "print(\"Displaying DataFrame Information:\")\n",
        "display(data)\n",
        "\n",
        "\n",
        "# Examples\n",
        "\n",
        "# Display the first 10 rows\n",
        "print(f\"Displaying First 5 Rows:\")\n",
        "display(data.head())\n",
        "\n",
        "# Display summary statistics\n",
        "print(\"\\nSummary Statistics:\")\n",
        "display(data.describe())"
      ]
    },
    {
      "cell_type": "markdown",
      "metadata": {
        "id": "NW30IkKbh_Bd"
      },
      "source": [
        "## Index Alignment in Pandas\n",
        "\n",
        "This alignment is crucial for accurately combining, comparing, and performing arithmetic operations on data with different structures but related indices.\n",
        "\n",
        "<font color='Blue'><b>Example - Series Alignment:</b></font>"
      ]
    },
    {
      "cell_type": "code",
      "execution_count": null,
      "metadata": {
        "id": "COZ_vQLQh_xd"
      },
      "outputs": [],
      "source": [
        "import pandas as pd\n",
        "\n",
        "# Create two Pandas Series\n",
        "data1 = pd.Series([10, 20, 30], index=['A', 'B', 'C'])\n",
        "data2 = pd.Series([5, 15, 25], index=['B', 'C', 'D'])\n",
        "\n",
        "# Perform element-wise addition on the Series\n",
        "result = data1 + data2\n",
        "\n",
        "# Display the result using the appropriate function for a Series\n",
        "print(result)"
      ]
    },
    {
      "cell_type": "markdown",
      "metadata": {
        "id": "fNrL5nRYiFNe"
      },
      "source": [
        "<center>\n",
        "<img src=\"https://raw.githubusercontent.com/HatefDastour/ENSF444/15439593107f883b8695777ab7f1b03007feb66a/Images/Index_Alignment_Fig1.png\" alt=\"picture\" width=\"700\">\n",
        "</center>"
      ]
    },
    {
      "cell_type": "markdown",
      "metadata": {
        "id": "RRvKyekhgEB9"
      },
      "source": [
        "## `loc` - Label-Based Indexing:\n",
        "\n",
        "The `loc` method in Pandas lets you access DataFrame data by labels or boolean array-based indexing. It's very helpful for choosing rows and columns with custom labels or names. This method makes it easy and flexible to get specific data [Molin and Jee, 2021, Pandas Developers, 2023].\n",
        "\n",
        "The syntax for using `loc` is:\n",
        "\n",
        "```python\n",
        "df.loc[row_indexer, column_indexer]\n",
        "```\n",
        "\n",
        "- `row_indexer`: Defines the row labels to choose, which can be a single label, a list of labels, a slice, or a boolean array.\n",
        "\n",
        "- `column_indexer`: Defines the column labels to choose, with similar indexing options.\n",
        "\n",
        "<font color='Blue'><b>Example</b></font>:"
      ]
    },
    {
      "cell_type": "code",
      "execution_count": null,
      "metadata": {
        "id": "FCy7QGIIgNqH"
      },
      "outputs": [],
      "source": [
        "import pandas as pd\n",
        "\n",
        "# Create a dictionary for the DataFrame\n",
        "data = {'Name': ['Alice', 'Bob', 'Charlie'], 'Age': [25, 30, 35]}\n",
        "\n",
        "# Create a DataFrame with custom index\n",
        "df = pd.DataFrame(data, index=['ID1', 'ID2', 'ID3'])\n",
        "\n",
        "# Original DataFrame\n",
        "print(\"Original DataFrame:\")\n",
        "display(df)\n",
        "\n",
        "# Access rows with labels 'ID1' and 'ID3' and all columns\n",
        "print(\"\\nAccess rows with labels ID1 and ID3 and all columns:\")\n",
        "selected_rows = df.loc[['ID1', 'ID3'], :]\n",
        "display(selected_rows)\n",
        "\n",
        "# Access rows based on a condition and specific columns\n",
        "print(\"\\nAccess rows based on a condition and specific columns:\")\n",
        "conditioned_rows = df.loc[df['Age'] > 30, ['Name', 'Age']]\n",
        "display(conditioned_rows)"
      ]
    },
    {
      "cell_type": "markdown",
      "metadata": {
        "id": "Pth5GDU-gTjW"
      },
      "source": [
        "<center>\n",
        "<img src=\"https://raw.githubusercontent.com/HatefDastour/ENSF444/b9f00e72650472da101fa3a6f229ca21841fe064/Images/Pandas_Row_Selection_Fig1.png\" alt=\"picture\" width=\"750\">\n",
        "</center>\n",
        "\n",
        "\n"
      ]
    },
    {
      "cell_type": "markdown",
      "metadata": {
        "id": "T8IQ5I7jgtjp"
      },
      "source": [
        "## `iloc` - Position-Based Indexing:\n",
        "\n",
        "The `iloc` method lets you access DataFrame data by integer positions, like indexing elements in a Python list. It's useful when you need to access data using the hidden integer-based index [Molin and Jee, 2021, Pandas Developers, 2023].\n",
        "\n",
        "The syntax for using `iloc` is:\n",
        "```python\n",
        "df.iloc[row_indexer, column_indexer]\n",
        "```\n",
        "\n",
        "- `row_indexer`: Defines the integer positions of the rows to choose.\n",
        "- `column_indexer`: Defines the integer positions of the columns to choose.\n",
        "\n",
        "<font color='Blue'><b>Example:</b></font>"
      ]
    },
    {
      "cell_type": "code",
      "execution_count": null,
      "metadata": {
        "id": "SDttHf_RguuC"
      },
      "outputs": [],
      "source": [
        "import pandas as pd\n",
        "\n",
        "# Create a dictionary for the DataFrame\n",
        "data = {'Name': ['Alice', 'Bob', 'Charlie'],\n",
        "        'Age': [25, 30, 35]}\n",
        "\n",
        "# Create a DataFrame\n",
        "df = pd.DataFrame(data)\n",
        "\n",
        "# Original DataFrame\n",
        "print(\"Original DataFrame:\")\n",
        "display(df)\n",
        "\n",
        "# Access the first two rows and all columns using iloc\n",
        "print(\"\\nAccess the first two rows and all columns:\")\n",
        "first_two_rows = df.iloc[:2, :]\n",
        "display(first_two_rows)\n",
        "\n",
        "# Access specific rows and columns by position using iloc\n",
        "print(\"\\nAccess specific rows and columns by position:\")\n",
        "selected_rows_columns = df.iloc[[0, 2], [0, 1]]\n",
        "display(selected_rows_columns)"
      ]
    },
    {
      "cell_type": "markdown",
      "metadata": {
        "id": "pQ9KGYtbhEUG"
      },
      "source": [
        "## `at` - Single Value Selection:\n",
        "\n",
        "The `at` method is ideal for efficiently accessing or modifying a single scalar value in a DataFrame. It offers a direct alternative to `loc` or `iloc` for single element selection [Molin and Jee, 2021, Pandas Developers, 2023].\n",
        "\n",
        "The syntax for using `at` is:\n",
        "```python\n",
        "df.at[row_label, column_label]\n",
        "```\n",
        "\n",
        "- `row_label`: Specifies the label of the row where the desired element is located.\n",
        "- `column_label`: Specifies the label of the column where the element is located.\n",
        "\n",
        "<font color='Blue'><b>Example:</b></font>"
      ]
    },
    {
      "cell_type": "code",
      "execution_count": null,
      "metadata": {
        "id": "2q915XUPhD1K"
      },
      "outputs": [],
      "source": [
        "import pandas as pd\n",
        "\n",
        "# Create a dictionary for the DataFrame\n",
        "data = {'Name': ['Alice', 'Bob', 'Charlie'],\n",
        "        'Age': [25, 30, 35]}\n",
        "\n",
        "# Create a DataFrame\n",
        "df = pd.DataFrame(data)\n",
        "\n",
        "# Original DataFrame\n",
        "print(\"Original DataFrame:\")\n",
        "display(df)\n",
        "\n",
        "# Access and modify the element at row label 1 and column label 'Name'\n",
        "df.at[1, 'Name'] = 'Robert'\n",
        "\n",
        "# Updated DataFrame\n",
        "print(\"\\nUpdated DataFrame:\")\n",
        "display(df)\n",
        "\n",
        "# Access and print the element at row label 2 and column label 'Age'\n",
        "age = df.at[2, 'Age']\n",
        "print(\"\\nAge:\", age)"
      ]
    },
    {
      "cell_type": "markdown",
      "metadata": {
        "id": "1Hp5nv53hS5-"
      },
      "source": [
        "The `at` method is particularly efficient for single value retrieval or modification.\n",
        "\n",
        "<center>\n",
        "<img src=\"https://raw.githubusercontent.com/HatefDastour/ENSF444/3e1e307507f33f01a24297b470535b6f6094561c/Images/pd_Selection_Fig1.png\" alt=\"picture\" width=\"700\">\n",
        "</center>"
      ]
    },
    {
      "cell_type": "markdown",
      "metadata": {
        "id": "h3X1RRvQj5vi"
      },
      "source": [
        "# Handling Missing Data in Pandas\n",
        "\n",
        "## Identifying Missing Data\n",
        "\n",
        "In Pandas, the `isna()` and `isnull()` methods are used interchangeably to check for missing values within a DataFrame or Series. These methods have no functional difference; they yield identical results. Both methods generate a Boolean mask, where `True` indicates a missing value, and `False` indicates a non-missing value [Molin and Jee, 2021, Pandas Developers, 2023].\n",
        "\n",
        "<font color='Blue'><b>Example</b></font>:"
      ]
    },
    {
      "cell_type": "code",
      "execution_count": null,
      "metadata": {
        "id": "T7YgE0QekAKs"
      },
      "outputs": [],
      "source": [
        "import pandas as pd\n",
        "\n",
        "data = pd.Series([1, None, 3, None, 5])\n",
        "\n",
        "# Original Series\n",
        "print(\"Original Series:\")\n",
        "print(data)\n",
        "\n",
        "# Using isnull() to identify missing values\n",
        "missing_values = data.isnull()\n",
        "\n",
        "# displaying missing_values\n",
        "print(\"\\nIdentifying Missing Values:\")\n",
        "print(missing_values)"
      ]
    },
    {
      "cell_type": "markdown",
      "metadata": {
        "id": "dgQa0d-rkBqB"
      },
      "source": [
        "<center>\n",
        "<img src=\"https://raw.githubusercontent.com/HatefDastour/ENSF444/33649ffb000850c06dec64870ba9c542f832d840/Images/pd_Missing_Data_Fig1.png\" alt=\"picture\" width=\"400\">\n",
        "</center>"
      ]
    },
    {
      "cell_type": "markdown",
      "metadata": {
        "id": "3py3WtXVkePd"
      },
      "source": [
        "## Filling Missing Data\n",
        "\n",
        "### Constant Fill, Forward Fill, and Backward Fill\n",
        "\n",
        "In Pandas, the `fillna()` function is a versatile tool for replacing missing or NaN (Not a Number) values within a DataFrame or Series. This method is particularly useful during data preprocessing or cleaning tasks, enabling effective handling of missing data [Molin and Jee, 2021, Pandas Developers, 2023].\n",
        "\n",
        "Available methods are `'fill'` for forward filling (propagating the last valid value forward) and `'bfill'` for backward filling (propagating the next valid value backward).\n",
        "\n",
        "You can see full description of the function [here](https://pandas.pydata.org/docs/reference/api/pandas.DataFrame.fillna.html).\n",
        "\n",
        "<font color='Blue'><b>Example</b></font>:"
      ]
    },
    {
      "cell_type": "code",
      "execution_count": null,
      "metadata": {
        "id": "IiJZwReBkbXh"
      },
      "outputs": [],
      "source": [
        "import numpy as np\n",
        "import pandas as pd\n",
        "\n",
        "# Create a simple time series DataFrame with missing values\n",
        "date_rng = ['2023-01-01', '2023-01-02', '2023-01-03', '2023-01-04',\n",
        "            '2023-01-05', '2023-01-06', '2023-01-07', '2023-01-08',\n",
        "            '2023-01-09', '2023-01-10']\n",
        "data = {'Temperature': [25.0, 24.5, np.nan, 23.0, np.nan, 22.0, 21.5, np.nan, 20.0, 19.5]}\n",
        "df = pd.DataFrame(data, index=date_rng)\n",
        "print(\"Original Data:\")\n",
        "display(df)\n",
        "\n",
        "# Forward fill to propagate the last valid observation forward\n",
        "df_filled_ffill = df.ffill()\n",
        "print('Forward fill to propagate the last valid observation forward:')\n",
        "display(df_filled_ffill)\n",
        "\n",
        "# Backward fill to propagate the next valid observation backward\n",
        "df_filled_bfill = df.bfill()\n",
        "print('Backward fill to propagate the next valid observation backward:')\n",
        "display(df_filled_bfill)"
      ]
    },
    {
      "cell_type": "markdown",
      "metadata": {
        "id": "eLnxt0mClhEd"
      },
      "source": [
        "<center>\n",
        "<img src=\"https://raw.githubusercontent.com/HatefDastour/ENSF444/20a7679e4725dcca74441a97fc13b1bbd8a4febd/Images/pd_fill_04.png\" alt=\"picture\" width=\"800\">\n",
        "</center>"
      ]
    },
    {
      "cell_type": "markdown",
      "metadata": {
        "id": "iuvQi9NZlrU3"
      },
      "source": [
        "Fill NaN values with summary statistics like mean or median. We can also compute custom aggregations based on the context of our data."
      ]
    },
    {
      "cell_type": "code",
      "execution_count": null,
      "metadata": {
        "id": "rMgkLr8tlpL6"
      },
      "outputs": [],
      "source": [
        "# Display the DataFrame with missing values filled using interpolation\n",
        "print(\"Fill NaN values with the mean:\")\n",
        "_mean = df['Temperature'].mean().round(2)\n",
        "df_filled_mean = df.fillna(_mean)\n",
        "display(df_filled_mean)"
      ]
    },
    {
      "cell_type": "markdown",
      "metadata": {
        "id": "TIPqDKNQl3cl"
      },
      "source": [
        "<center>\n",
        "<img src=\"https://raw.githubusercontent.com/HatefDastour/ENSF444/194a0014c2450ed9dc328006b16f7b9db9885aa5/Images/pd_fill_06.png\" alt=\"picture\" width=\"650\">\n",
        "</center>"
      ]
    },
    {
      "cell_type": "markdown",
      "source": [
        "## Groupby\n",
        "\n",
        "pandas [groupby](https://pandas.pydata.org/docs/reference/groupby.html#groupby) is a method that splits a DataFrame into groups based on one or more columns, applies a function to each group, and combines the results into a new DataFrame [Pandas Developers, 2023].."
      ],
      "metadata": {
        "id": "2kk0qA86U3aM"
      }
    },
    {
      "cell_type": "code",
      "source": [
        "import numpy as np\n",
        "import pandas as pd\n",
        "\n",
        "# Set the random seed for reproducibility\n",
        "rng = np.random.default_rng(42)\n",
        "\n",
        "# Define the number of rows in the DataFrame\n",
        "num_rows = 100\n",
        "\n",
        "# Generate random alphabet column with only 'A' and 'B'\n",
        "random_alphabet = [rng.choice(['A', 'B']) for _ in range(num_rows)]\n",
        "\n",
        "# Generate random numeric column\n",
        "random_numeric = rng.integers(1, 101, size=num_rows)\n",
        "\n",
        "# Create a Pandas DataFrame\n",
        "data = {'Category': random_alphabet, 'Value': random_numeric}\n",
        "df = pd.DataFrame(data)\n",
        "\n",
        "# Display the first few rows of the DataFrame\n",
        "display(df.head())"
      ],
      "metadata": {
        "id": "aJIZvD7oU2zh"
      },
      "execution_count": null,
      "outputs": []
    },
    {
      "cell_type": "code",
      "source": [
        "# Grouping by 'Category'\n",
        "grouped = df.groupby('Category')\n",
        "\n",
        "#  Applying multiple aggregation functions\n",
        "agg_functions = {'Value': ['mean', 'sum', 'count', 'max', 'min']}\n",
        "result = grouped.agg(agg_functions)\n",
        "# or simply result = grouped.agg({'Value': ['mean', 'sum', 'count', 'max', 'min']})\n",
        "display(result)"
      ],
      "metadata": {
        "id": "MPCY0ms9VDnj"
      },
      "execution_count": null,
      "outputs": []
    },
    {
      "cell_type": "markdown",
      "metadata": {
        "id": "Cua3pwdteiuC"
      },
      "source": [
        "## References\n",
        "\n",
        "* S. Molin and K. Jee. Hands-On Data Analysis with Pandas: A Python data science handbook for data collection, wrangling, analysis, and visualization. Packt Publishing, 2021. ISBN 9781800565913. URL: https://books.google.ca/books?id=Eh4sEAAAQBAJ.\n",
        "* Pandas Developers. Pandas documentation. https://pandas.pydata.org/docs/, 2023. [Online; accessed 01-August-2023]."
      ]
    }
  ],
  "metadata": {
    "colab": {
      "provenance": []
    },
    "kernelspec": {
      "display_name": "Python 3 (ipykernel)",
      "language": "python",
      "name": "python3"
    },
    "language_info": {
      "codemirror_mode": {
        "name": "ipython",
        "version": 3
      },
      "file_extension": ".py",
      "mimetype": "text/x-python",
      "name": "python",
      "nbconvert_exporter": "python",
      "pygments_lexer": "ipython3",
      "version": "3.11.5"
    }
  },
  "nbformat": 4,
  "nbformat_minor": 0
}