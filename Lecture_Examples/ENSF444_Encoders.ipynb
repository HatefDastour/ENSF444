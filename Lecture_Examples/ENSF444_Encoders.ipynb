{
  "nbformat": 4,
  "nbformat_minor": 0,
  "metadata": {
    "colab": {
      "provenance": []
    },
    "kernelspec": {
      "name": "python3",
      "display_name": "Python 3"
    },
    "language_info": {
      "name": "python"
    }
  },
  "cells": [
    {
      "cell_type": "markdown",
      "source": [
        "# Encoders"
      ],
      "metadata": {
        "id": "Zi4yR-fxshOd"
      }
    },
    {
      "cell_type": "markdown",
      "source": [
        "\n",
        "## Categorical Variables\n",
        "\n",
        "A **categorical variable**, also known as a qualitative variable, is a type of variable that can assume a set number of distinct categories or groups. Each category represents a qualitative characteristic or attribute. The categories are mutually exclusive, meaning an observation can only belong to one category.\n",
        "\n",
        "Categorical variables come in two types: **nominal** and **ordinal**. Nominal variables consist of categories that lack any inherent order, such as the color of a car (red, blue, green, etc.). On the other hand, ordinal variables contain categories that have a natural order or ranking, like educational level (high school, bachelor's, master's, Ph.D.).\n",
        "\n",
        "Here are some examples of categorical variables:\n",
        "- The outcome of a roll of a six-sided die, which can result in one of six possibilities: 1, 2, 3, 4, 5, or 6.\n",
        "- Demographic attributes such as disease status (healthy, sick).\n",
        "- Blood type, which can be A, B, AB, or O.\n",
        "\n",
        "\n",
        "\n",
        "Numerical labels in categorical variables are identifiers, not values. For example, in a die roll, 6 isn't \"greater\" than 1; it's just a different outcome. However, in ordinal variables, the labels do have an order. Like in a survey, responses from \"strongly disagree\" (1) to \"strongly agree\" (5) show a clear ranking."
      ],
      "metadata": {
        "id": "pFpmONoQ982b"
      }
    },
    {
      "cell_type": "markdown",
      "source": [
        "## One Hot Encoding\n",
        "\n",
        "One hot encoding is a technique to convert categorical variables into numerical values for machine learning models. It creates a new column for each category and assigns a binary value of 1 or 0 to indicate the presence or absence of that category. For example, suppose we have a variable called \"color\" with three possible values: \"red\", \"green\", and \"blue\". One hot encoding would create three new columns: \"color_red\", \"color_green\", and \"color_blue\". Each row would have a 1 in the column that matches its original color value, and 0 in the other columns. The table below illustrates this process:\n",
        "\n",
        "| color | color_red | color_green | color_blue |\n",
        "| ----- | --------- | ----------- | ---------- |\n",
        "| red   | 1         | 0           | 0          |\n",
        "| green | 0         | 1           | 0          |\n",
        "| blue  | 0         | 0           | 1          |"
      ],
      "metadata": {
        "id": "WQ5uQL8TJaub"
      }
    },
    {
      "cell_type": "markdown",
      "source": [
        "<font color='Blue'><b>Example:</b></font>"
      ],
      "metadata": {
        "id": "E0hpfaYhJcgs"
      }
    },
    {
      "cell_type": "code",
      "source": [
        "# Import necessary libraries\n",
        "import pandas as pd\n",
        "from sklearn.preprocessing import OneHotEncoder\n",
        "\n",
        "# Create a dataframe with a categorical variable\n",
        "df = pd.DataFrame({\"Fruit\": [\"Apple\", \"Mango\", \"Apple\", \"Orange\"]})\n",
        "\n",
        "# Print the original dataframe\n",
        "display(df)\n",
        "\n",
        "# Use OneHotEncoder for one hot encoding\n",
        "encoder_onehot = OneHotEncoder(sparse_output=False, dtype = 'int')\n",
        "df_encoded = pd.DataFrame(encoder_onehot.fit_transform(df[[\"Fruit\"]]),\n",
        "                          columns = encoder_onehot.get_feature_names_out([\"Fruit\"]))\n",
        "\n",
        "# Concatenate the original dataframe with the encoded values\n",
        "df = pd.concat([df, df_encoded], axis=1)\n",
        "\n",
        "# Print the encoded dataframe\n",
        "display(df.drop([\"Fruit\"], axis=1))"
      ],
      "metadata": {
        "id": "7PPz6qzYNyYq"
      },
      "execution_count": null,
      "outputs": []
    },
    {
      "cell_type": "code",
      "source": [
        "# Get output feature names for transformation.\n",
        "encoder_onehot.get_feature_names_out(['Fruit'])"
      ],
      "metadata": {
        "id": "XJ8xDCuBekut"
      },
      "execution_count": null,
      "outputs": []
    },
    {
      "cell_type": "markdown",
      "source": [
        "We could do this using pandas too."
      ],
      "metadata": {
        "id": "Ao28blOvOrEA"
      }
    },
    {
      "cell_type": "code",
      "source": [
        "# Import pandas library\n",
        "import pandas as pd\n",
        "\n",
        "# Create a dataframe with a categorical variable\n",
        "df = pd.DataFrame({\"Fruit\": [\"Apple\", \"Mango\", \"Apple\", \"Orange\"]})\n",
        "\n",
        "# Print the original dataframe\n",
        "display(df)\n",
        "\n",
        "# Use pandas.get_dummies() to perform one hot encoding\n",
        "df_encoded = pd.get_dummies(df, prefix=\"fruit\")\n",
        "\n",
        "# Print the encoded dataframe\n",
        "display(df_encoded)"
      ],
      "metadata": {
        "id": "yJCqCCF_JfHg"
      },
      "execution_count": null,
      "outputs": []
    },
    {
      "cell_type": "markdown",
      "source": [
        "## Ordinal encoding\n",
        "\n",
        "Ordinal encoding is a technique that transforms categorical variables into numerical values by assigning a unique integer to each category. This is useful when the categories have some inherent order or ranking, such as low, medium and high. Ordinal encoding can also reduce the dimensionality of the data and make it easier for some algorithms to handle."
      ],
      "metadata": {
        "id": "KNKsdusPDqB9"
      }
    },
    {
      "cell_type": "markdown",
      "source": [
        "<font color='Blue'><b>Example:</b></font>"
      ],
      "metadata": {
        "id": "TaAczxd5EcEb"
      }
    },
    {
      "cell_type": "code",
      "source": [
        "# Import necessary libraries\n",
        "import pandas as pd\n",
        "from sklearn.preprocessing import OrdinalEncoder\n",
        "\n",
        "# Create a dataframe with a numerical variable and a categorical variable\n",
        "df = pd.DataFrame({\"survey_response\": [\"strongly disagree\", \"disagree\", \"neutral\", \"agree\", \"strongly agree\", \"strongly agree\"]})\n",
        "display(df)\n",
        "\n",
        "# Define the order of survey responses\n",
        "survey_order = [\"strongly disagree\", \"disagree\", \"neutral\", \"agree\", \"strongly agree\"]\n",
        "\n",
        "# Use OrdinalEncoder to encode the categorical variable\n",
        "encoder = OrdinalEncoder(categories=[survey_order], dtype=int)\n",
        "df_encoded = df.copy()\n",
        "df_encoded[\"survey_response\"] = encoder.fit_transform(df[[\"survey_response\"]])\n",
        "display(df_encoded)\n",
        "\n",
        "# print the categories of each feature\n",
        "from pprint import pprint\n",
        "pprint(encoder.categories_)"
      ],
      "metadata": {
        "id": "Xq_S-ve8L04P"
      },
      "execution_count": null,
      "outputs": []
    },
    {
      "cell_type": "markdown",
      "source": [
        "To do a similar encoding using pandas, we can use the following:"
      ],
      "metadata": {
        "id": "L6fWR0V6O9N3"
      }
    },
    {
      "cell_type": "code",
      "source": [
        "# Import necessary libraries\n",
        "import pandas as pd\n",
        "\n",
        "# Create a dataframe with a numerical variable and a categorical variable\n",
        "df = pd.DataFrame({\"survey_response\": [\"strongly disagree\", \"disagree\", \"neutral\", \"agree\", \"strongly agree\", \"strongly agree\"]})\n",
        "\n",
        "# Define the order of survey responses\n",
        "survey_order = [\"strongly disagree\", \"disagree\", \"neutral\", \"agree\", \"strongly agree\"]\n",
        "\n",
        "# Create a mapping dictionary for ordinal encoding\n",
        "mapping_dict = {category: index for index, category in enumerate(survey_order)}\n",
        "pprint(mapping_dict)\n",
        "\n",
        "# Map the categorical variable to its corresponding numerical values\n",
        "df[\"survey_response_encoded\"] = df[\"survey_response\"].map(mapping_dict)\n",
        "display(df)\n",
        "\n",
        "# Print the categories of each feature\n",
        "categories = {\"survey_response\": survey_order}\n",
        "pprint(categories)"
      ],
      "metadata": {
        "id": "G0g75hmTO6dT"
      },
      "execution_count": null,
      "outputs": []
    },
    {
      "cell_type": "markdown",
      "source": [
        "## SimpleImputer\n",
        "\n",
        "SimpleImputer can replace missing values with a constant value, or with a statistic (such as mean, median, or mode) calculated from each column. The choice of strategy depends on the type and distribution of the data, as well as the goal of the analysis.\n",
        "\n",
        "To use SimpleImputer, one needs to import it from sklearn.impute module, create an instance of the class with the desired parameters, and then fit and transform the data. For example, the following code snippet shows how to use SimpleImputer to replace missing values with the mean of each column:\n",
        "\n",
        "```python\n",
        "# Import SimpleImputer\n",
        "from sklearn.impute import SimpleImputer\n",
        "\n",
        "# Create an instance of SimpleImputer with mean strategy\n",
        "imputer = SimpleImputer(strategy=\"mean\")\n",
        "\n",
        "# Fit the imputer on the data\n",
        "imputer.fit(data)\n",
        "\n",
        "# Transform the data with the imputed values\n",
        "data_imputed = imputer.transform(data)\n",
        "```\n"
      ],
      "metadata": {
        "id": "_PuQmN2Lhv7s"
      }
    },
    {
      "cell_type": "code",
      "source": [
        "import numpy as np\n",
        "import pandas as pd\n",
        "from sklearn.impute import SimpleImputer\n",
        "\n",
        "# Sample data with missing values\n",
        "data = {'A': [1, 4, 7, 8, 11],\n",
        "        'B': [2, np.nan, 6, 6, 8],\n",
        "        'C': [0, np.nan, 6, 6, 9]}\n",
        "\n",
        "df = pd.DataFrame(data)\n",
        "display(df)\n",
        "\n",
        "# Strategies to be used by SimpleImputer\n",
        "strategies = ['mean', 'median', 'most_frequent', 'constant']\n",
        "\n",
        "# Loop through each strategy and print the imputed data\n",
        "for strategy in strategies:\n",
        "    imputer = SimpleImputer(strategy=strategy, fill_value = 5)\n",
        "    imputed_data = pd.DataFrame(data = imputer.fit_transform(df), columns = df.columns)\n",
        "    print(f\"\\nImputed data using {strategy} strategy:\")\n",
        "    display(imputed_data)\n"
      ],
      "metadata": {
        "id": "VUonhqQBi2Sr"
      },
      "execution_count": null,
      "outputs": []
    },
    {
      "cell_type": "markdown",
      "source": [
        "## Column Transformer\n",
        "\n",
        " ColumnTransformer is a class in the scikit-learn library that allows you to apply different data preparation transforms to different columns of a dataset. For example, you can use ColumnTransformer to scale the numerical columns and encode the categorical columns of a pandas DataFrame. ColumnTransformer also supports dropping or passing through columns without any transformation. You can create a ColumnTransformer object by passing a list of tuples, each containing a name, a transformer, and a column selector. You can also use the make_column_transformer function to create a ColumnTransformer without naming the transformers. ColumnTransformer can be used as a single transformer or as part of a pipeline."
      ],
      "metadata": {
        "id": "B98i0SseTEWc"
      }
    },
    {
      "cell_type": "code",
      "source": [
        "import pandas as pd\n",
        "import numpy as np\n",
        "from sklearn.compose import ColumnTransformer\n",
        "from sklearn.preprocessing import OneHotEncoder, FunctionTransformer\n",
        "from sklearn.impute import SimpleImputer\n",
        "\n",
        "# Sample dataset\n",
        "data = {\n",
        "    'Quality': ['Low', 'Medium', 'High', 'Low', 'Medium'],\n",
        "    'Fruit': ['Apple', 'Orange', 'Grapes', 'Pineapple', 'Banana'],\n",
        "    'Weight': [10, 20, 30, np.nan, 15],\n",
        "}\n",
        "\n",
        "df = pd.DataFrame(data)\n",
        "display(df)"
      ],
      "metadata": {
        "id": "qQRTCtnjTHzY"
      },
      "execution_count": null,
      "outputs": []
    },
    {
      "cell_type": "code",
      "source": [
        "import pandas as pd\n",
        "from sklearn.compose import ColumnTransformer\n",
        "from sklearn.preprocessing import OneHotEncoder, OrdinalEncoder\n",
        "from sklearn.impute import SimpleImputer\n",
        "\n",
        "# Define transformers and preprocessor\n",
        "ordinal_encoder = OrdinalEncoder(categories=[['Low', 'Medium', 'High']])\n",
        "onehot_encoder = OneHotEncoder(sparse_output = False)\n",
        "imputer = SimpleImputer(strategy='mean')\n",
        "\n",
        "# Create a column transformer\n",
        "preprocessor = ColumnTransformer(\n",
        "    transformers=[('ordinal', ordinal_encoder, ['Quality']),\n",
        "                  ('onehot', onehot_encoder, ['Fruit']),\n",
        "                  ('imputer', imputer, ['Weight'])],\n",
        "    remainder='passthrough'  # Pass through any other columns not specified\n",
        ")\n",
        "\n",
        "# Apply the column transformer to the dataset\n",
        "transformed_data = preprocessor.fit_transform(df)\n",
        "\n",
        "# Create a dataframe from the encoded data\n",
        "transformed_df = pd.DataFrame(transformed_data, columns=preprocessor.get_feature_names_out())\n",
        "\n",
        "# Display the new dataframe\n",
        "display(transformed_df )"
      ],
      "metadata": {
        "id": "jkpTjSmSZ0cQ"
      },
      "execution_count": null,
      "outputs": []
    }
  ]
}