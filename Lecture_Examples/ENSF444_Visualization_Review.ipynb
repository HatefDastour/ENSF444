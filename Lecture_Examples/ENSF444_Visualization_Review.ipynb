{
  "nbformat": 4,
  "nbformat_minor": 0,
  "metadata": {
    "colab": {
      "provenance": []
    },
    "kernelspec": {
      "name": "python3",
      "display_name": "Python 3"
    },
    "language_info": {
      "name": "python"
    }
  },
  "cells": [
    {
      "cell_type": "markdown",
      "source": [
        "# Basic Visualizations"
      ],
      "metadata": {
        "id": "DDkDSefwYnS9"
      }
    },
    {
      "cell_type": "markdown",
      "source": [
        "## Line Plot\n",
        "\n",
        "A line plot is a common type of data visualization that displays data points connected by straight lines. It is particularly useful for visualizing trends, changes over time, and the relationship between two numerical variables. Both Matplotlib and Seaborn libraries in Python offer functions to create line plots with various features and customizations. Here's an explanation of how to use `matplotlib.pyplot.plot()` and `seaborn.lineplot()`:\n",
        "\n",
        "1. **Usage**: Line plots are used to show the trend or progression of a variable over a continuous axis, such as time, while connecting the data points to visualize the overall pattern or trajectory.\n",
        "\n",
        "2. **Matplotlib Library**: Matplotlib is a low-level data visualization library in Python that provides a wide range of plotting functions and options. `matplotlib.pyplot.plot()` is the basic function for creating line plots with Matplotlib. You can see the full function description [here](https://matplotlib.org/stable/api/_as_gen/matplotlib.pyplot.plot.html).\n",
        "\n",
        "3. **Seaborn Library**: Seaborn is a high-level data visualization library in Python that is built on top of Matplotlib. Seaborn offers more advanced and interactive plotting functions and aesthetics. `seaborn.lineplot()` is the function for creating line plots with Seaborn. You can see the full function description [here](https://seaborn.pydata.org/generated/seaborn.lineplot.html).\n",
        "\n",
        "4. **Syntax**:\n",
        "  - The basic syntax for creating a line plot with Matplotlib is: `matplotlib.pyplot.plot(x, y, fmt, **kwargs)`. Here, `x` and `y` are the variables to be plotted on the x-axis and y-axis, respectively. `fmt` is an optional parameter that specifies the format of the line and markers, such as color, style, and shape. `**kwargs` are additional keyword arguments that control the appearance and behavior of the plot.\n",
        "  - The basic syntax for creating a line plot with Seaborn is: `seaborn.lineplot(x, y, data, hue, style, markers, **kwargs)`. Here, `x` and `y` are the variables to be plotted on the x-axis and y-axis, respectively. `data` is the DataFrame containing the data. `hue`, `style`, and `markers` are optional parameters that allow you to differentiate lines based on categorical variables and customize the appearance of the lines and data points. `**kwargs` are additional keyword arguments that control the appearance and behavior of the plot.\n",
        "5. **Features and Customization**: Both Matplotlib and Seaborn provide various features and customization options for line plots, such as setting plot aesthetics (line colors, styles, marker types), adding labels and titles, adjusting axis limits, and more. Seaborn also offers some additional features, such as coloring lines based on categorical variables, adding confidence intervals around the lines, and smoothing the lines with a kernel density estimate.\n",
        "6. **Interpretation**: When interpreting a line plot, focus on the overall trend of the line, any significant changes or inflection points, the relative behavior of different lines (if using `hue`), and the variability or dispersion of the data points around the line.\n",
        "7. **Data Preparation**: Ensure that the data is properly organized and relevant for the line plot. Handle missing values and ensure that the variables being plotted on the x-axis and y-axis are suitable for a line plot (typically numerical variables)."
      ],
      "metadata": {
        "id": "v-hv5AFd5yIk"
      }
    },
    {
      "cell_type": "markdown",
      "source": [
        "<font color='Blue'><b>Example:</b></font> The dataset was obtained from [https://data.calgary.ca/stories/s/9phu-xb4j](https://data.calgary.ca/stories/s/9phu-xb4j) and pertains to Water Temperature (in degrees Celsius) at the Fish Creek 37th St Calgary Station (SUR_FC-37).\n",
        "\n",
        "**Description of the Dataset Columns:**\n",
        "\n",
        "1. **Date:** The date and time corresponding to each temperature measurement.\n",
        "2. **Water Temperature:** The recorded water temperature in degrees Celsius (°C)."
      ],
      "metadata": {
        "id": "zYtw-Y9PYrTY"
      }
    },
    {
      "cell_type": "code",
      "source": [
        "# Import the Pandas library as 'pd' for data manipulation\n",
        "import pandas as pd\n",
        "\n",
        "# Read a CSV file ('Fish_Creek_Water_Temp.csv') and select specific columns\n",
        "# - 'usecols' specifies the columns to be included in the DataFrame.\n",
        "#   In this case, we select 'Date' and 'Water Temperature.'\n",
        "df_Water_Temp = pd.read_csv('https://raw.githubusercontent.com/HatefDastour/ENGG_680/main/Datasets/Fish_Creek_Water_Temp.csv',\n",
        "                            usecols = ['Date', 'Water Temperature'])\n",
        "\n",
        "# Convert the 'Date' column to a datetime format\n",
        "# This step is important for handling date-related operations.\n",
        "df_Water_Temp['Date'] = pd.to_datetime(df_Water_Temp['Date'])\n",
        "\n",
        "# Display the first few rows of the DataFrame to inspect the data\n",
        "# This helps us verify the data and check if the datetime conversion was successful.\n",
        "display(df_Water_Temp.head())"
      ],
      "metadata": {
        "id": "rSt-p85kYt54"
      },
      "execution_count": null,
      "outputs": []
    },
    {
      "cell_type": "code",
      "source": [
        "# Set the 'Date' column as the index of the DataFrame\n",
        "# This allows for time-based indexing and analysis.\n",
        "df_Water_Temp.set_index('Date', inplace=True)\n",
        "\n",
        "# Calculate the monthly average water temperature\n",
        "# - 'resample('MS')' groups the data by month and calculates the mean.\n",
        "# - 'mean()' computes the average water temperature for each month.\n",
        "# - 'reset_index(drop=False)' resets the index while keeping the 'Date' column.\n",
        "monthly_avg_temperature = df_Water_Temp['Water Temperature'].resample('MS').mean().reset_index(drop=False)\n",
        "\n",
        "# Display the first few rows of the resulting DataFrame\n",
        "# This shows the calculated monthly average water temperatures.\n",
        "display(monthly_avg_temperature.head())"
      ],
      "metadata": {
        "id": "WYN_K9isYqix"
      },
      "execution_count": null,
      "outputs": []
    },
    {
      "cell_type": "code",
      "source": [
        "import seaborn as sns\n",
        "import matplotlib.pyplot as plt\n",
        "import warnings\n",
        "warnings.filterwarnings(\"ignore\")\n",
        "\n",
        "# Use a custom style for the plot (adjust the path to your style file)\n",
        "plt.style.use('https://raw.githubusercontent.com/HatefDastour/ENSF444/main/Files/mystyle.mplstyle')\n",
        "\n",
        "# Create a figure and axes with a specified size\n",
        "fig, ax = plt.subplots(figsize=(9.5, 4.5))\n",
        "\n",
        "# Create a line plot with markers\n",
        "# - 'x' is set to 'Date,' and 'y' is set to 'Water Temperature' to define the data.\n",
        "# - 'data' specifies the DataFrame to use for plotting.\n",
        "# - 'marker' defines the marker style for data points.\n",
        "# - 'markerfacecolor' sets the color of the marker face to None (no fill).\n",
        "# - 'ax' specifies the axes where the plot should be drawn.\n",
        "# - 'markersize' sets the size of the markers.\n",
        "# - 'markeredgecolor' defines the color of the marker edges.\n",
        "# - 'markeredgewidth' sets the width of the marker edges.\n",
        "sns.lineplot(x='Date', y='Water Temperature',\n",
        "             data=df_Water_Temp,\n",
        "             marker='o',\n",
        "             markerfacecolor='None',\n",
        "             ax=ax,\n",
        "             markersize=5,\n",
        "             markeredgecolor='k',\n",
        "             markeredgewidth=1)\n",
        "\n",
        "# Set labels and title for the plot\n",
        "ax.set(xlabel='Date', ylabel='Water Temperature (°C)',\n",
        "       title='Monthly Aggregated Water Temperature Over Years')\n",
        "\n",
        "# Display grid lines for better visualization\n",
        "ax.grid(True)\n",
        "\n",
        "# Adjust the plot layout for better presentation\n",
        "plt.tight_layout()\n",
        "\n",
        "fig.savefig('TimeSeries.png', dpi = 200)"
      ],
      "metadata": {
        "id": "4r_4kalCYwwA"
      },
      "execution_count": null,
      "outputs": []
    },
    {
      "cell_type": "markdown",
      "source": [
        "## Scatter Plot\n",
        "A scatter plot is a common type of data visualization that displays individual data points as dots in a two-dimensional space, with one variable plotted on the x-axis and another on the y-axis. It is particularly useful for visualizing the relationship between two numerical variables, allowing you to identify patterns, trends, clusters, correlations, and outliers. Both Matplotlib and Seaborn libraries in Python offer functions to create scatter plots with various features and customizations. Here's an explanation of how to use `matplotlib.pyplot.scatter()` and `seaborn.scatterplot()`:\n",
        "\n",
        "1. **Usage**: Scatter plots are used to show the trend or progression of a variable over a continuous axis, such as time while connecting the data points to visualize the overall pattern or trajectory.\n",
        "2. **Matplotlib Library**: Matplotlib is a low-level data visualization library in Python that provides a wide range of plotting functions and options. `matplotlib.pyplot.scatter()` is the basic function for creating scatter plots with Matplotlib. You can see the full function description [here](https://matplotlib.org/stable/api/_as_gen/matplotlib.pyplot.scatter.html).\n",
        "3. **Seaborn Library**: Seaborn is a high-level data visualization library in Python that is built on top of Matplotlib. Seaborn offers more advanced and interactive plotting functions and aesthetics. `seaborn.scatterplot()` is the function for creating scatter plots with Seaborn. You can see the full function description [here](https://seaborn.pydata.org/generated/seaborn.scatterplot.html).\n",
        "\n",
        "4. **Syntax**:\n",
        "  - The basic syntax for creating a scatter plot with Matplotlib is: `matplotlib.pyplot.scatter(x, y, s=None, c=None, marker=None, cmap=None, norm=None, vmin=None, vmax=None, alpha=None, linewidths=None, *, edgecolors=None, plotnonfinite=False, data=None, **kwargs)`. Here, `x` and `y` are the variables to be plotted on the x-axis and y-axis, respectively. `s` is an optional parameter that specifies the marker size in points. `c` is an optional parameter that specifies the marker color or sequence of colors. `marker` is an optional parameter that specifies the marker style. `cmap` is an optional parameter that specifies the colormap to use if `c` is an array of floats. `norm` is an optional parameter that specifies the normalization instance for scaling data values to colors. `vmin` and `vmax` are optional parameters that specify the data range that the colormap covers. `alpha` is an optional parameter that specifies the alpha blending value for the markers. `linewidths` is an optional parameter that specifies the linewidth of the marker edges. `edgecolors` is an optional parameter that specifies the edge color of the marker. `plotnonfinite` is an optional parameter that specifies whether to plot non-finite numbers. `data` is an optional parameter that specifies the source DataFrame if provided. `**kwargs` are additional keyword arguments that control the appearance and behavior of the plot.\n",
        "  - The basic syntax for creating a scatter plot with Seaborn is: `seaborn.scatterplot(x, y, data, hue, size, style, **kwargs)`. Here, `x` and `y` are the variables to be plotted on the x-axis and y-axis, respectively. `data` is the DataFrame containing the data. `hue`, `size`, and `style` are optional parameters that allow you to differentiate points based on categorical variables and customize the appearance of the points. `**kwargs` are additional keyword arguments that control the appearance and behavior of the plot.\n",
        "5. **Features and Customization**: Both Matplotlib and Seaborn provide various features and customization options for scatter plots, such as setting plot aesthetics (colors, markers, line styles), adding labels and titles, adjusting axis limits, and more. Seaborn also offers some additional features, such as coloring points based on categorical variables, sizing points based on numerical variables, styling points based on categorical variables, and showing confidence intervals around the points.\n",
        "6. **Interpretation**: When interpreting a scatter plot, focus on the overall trend of the points, any significant changes or inflection points, the relative behavior of different points (if using `hue`, `size`, or `style`), and the variability or dispersion of the points around the trend.\n",
        "7. **Data Preparation**: Ensure that the data is properly organized and relevant for the scatter plot. Handle missing values and ensure that the variables being plotted on the x-axis and y-axis are suitable for a scatter plot (typically numerical variables).\n"
      ],
      "metadata": {
        "id": "k_6-GmSQY7x1"
      }
    },
    {
      "cell_type": "code",
      "source": [
        "import seaborn as sns\n",
        "import matplotlib.pyplot as plt\n",
        "import numpy as np\n",
        "\n",
        "# Generate highly correlated data\n",
        "np.random.seed(42)\n",
        "x = np.random.rand(100)\n",
        "y = 2 * x + 1 + 0.1 * np.random.randn(100)\n",
        "\n",
        "\n",
        "# Create figure and axes\n",
        "fig, ax = plt.subplots()\n",
        "\n",
        "# Create a scatter plot using seaborn with enhanced aesthetics\n",
        "sns.scatterplot(x=x, y=y, color='OrangeRed', edgecolor='black', alpha=0.7, s=80, ax=ax)\n",
        "\n",
        "# Set plot labels and title\n",
        "ax.set_xlabel('X-values', fontsize=12)\n",
        "ax.set_ylabel('Y-values', fontsize=12)\n",
        "ax.set_title('Scatter Plot of Highly Correlated Data', fontsize=14)\n",
        "\n",
        "# Save the plot as an image\n",
        "fig.savefig('Scatter.png', dpi=300)"
      ],
      "metadata": {
        "id": "GYwHTtRtYzeL"
      },
      "execution_count": null,
      "outputs": []
    },
    {
      "cell_type": "markdown",
      "source": [
        "## Bar Plot\n",
        "A bar plot is a common type of data visualization used to compare the values of different categories or groups, while showing the relationship between categorical and numerical variables. Both Matplotlib and Seaborn libraries in Python offer functions to create bar plots with various features and customizations. Here's an explanation of how to use `matplotlib.pyplot.bar()` and `seaborn.barplot()`:\n",
        "\n",
        "1. **Usage**: Bar plots are used to display frequencies, counts, or aggregated values of categorical variables, while visualizing the relationship between categorical and numerical variables.\n",
        "\n",
        "2. **Matplotlib Library**: Matplotlib is a low-level data visualization library in Python that provides a wide range of plotting functions and options. `matplotlib.pyplot.bar()` is the basic function for creating bar plots with Matplotlib. You can see the full function description [here](https://matplotlib.org/stable/api/_as_gen/matplotlib.pyplot.bar.html).\n",
        "\n",
        "3. **Seaborn Library**: Seaborn is a high-level data visualization library in Python that is built on top of Matplotlib. Seaborn offers more advanced and interactive plotting functions and aesthetics. `seaborn.barplot()` is the function for creating bar plots with Seaborn. You can see the full function description [here](https://www.w3schools.com/python/matplotlib_bars.asp).\n",
        "\n",
        "4. **Syntax**:\n",
        "  - The basic syntax for creating a bar plot with Matplotlib is: `matplotlib.pyplot.bar(x, height, width, bottom, align, **kwargs)`. Here, `x` and `height` are the variables to be plotted on the x-axis and y-axis, respectively. `width`, `bottom`, `align`, and `**kwargs` are optional parameters that control the appearance and behavior of the bars.\n",
        "  - The basic syntax for creating a bar plot with Seaborn is: `seaborn.barplot(x, y, data, hue, estimator, ci, **kwargs)`. Here, `x` and `y` are the variables to be plotted on the x-axis and y-axis, respectively. `data` is the DataFrame containing the data. `hue`, `estimator`, and `ci` are optional parameters that allow you to differentiate bars based on categorical variables, aggregate data, and show confidence intervals around the bars. `**kwargs` are additional keyword arguments that control the appearance and behavior of the plot.\n",
        "\n",
        "5. **Features and Customization**: Both Matplotlib and Seaborn provide various features and customization options for bar plots, such as setting bar colors, adding labels and titles, adjusting axis limits, and more. Seaborn also offers some additional features, such as coloring bars based on categorical variables, showing confidence intervals around the bars, and adding error bars.\n",
        "\n",
        "6. **Interpretation**: When interpreting a bar plot, focus on the heights (or widths) of the bars, which represent the values of the data within each category or group. Observe the relative differences between the bars, any patterns or trends, and the variation in the data.\n",
        "\n",
        "7. **Data Preparation**: Ensure that the data is properly formatted for the bar plot. Handle missing values, encode categorical variables appropriately, and ensure that the variables being plotted on the x-axis and y-axis are suitable for a bar plot (typically categorical variables)."
      ],
      "metadata": {
        "id": "KiXfrMP7Zzrz"
      }
    },
    {
      "cell_type": "markdown",
      "source": [
        "<font color='Blue'><b>Example:</b></font> Calgary Traffic Incidents dataset, acquired from [here](https://data.calgary.ca/Transportation-Transit/Traffic-Incidents/35ra-9556), provides information about various traffic incidents, including their locations, timestamps, the city quadrant in which they occurred, and a count of incidents at each location.\n",
        "\n",
        "**Description of the Dataset Columns:**\n",
        "\n",
        "1. **INCIDENT INFO:** This column provides a brief description of the location of the traffic incident. It typically includes the names of streets or intersections where the incident occurred.\n",
        "\n",
        "2. **START_DT:** This column indicates the date and time when the traffic incident was reported or occurred. For example, \"9/15/2023 8:44\" means the incident took place on September 15, 2023, at 8:44 AM.\n",
        "\n",
        "3. **QUADRANT:** This column specifies the quadrant of the city where the incident occurred. In this context, \"NW\" stands for Northwest, \"SE\" for Southeast, and \"SW\" for Southwest. It helps geographically categorize the incident location within the city."
      ],
      "metadata": {
        "id": "9xxIrWnWZ2DL"
      }
    },
    {
      "cell_type": "code",
      "source": [
        "df_traffic = pd.read_csv('https://raw.githubusercontent.com/HatefDastour/ENGG_680/main/Datasets/Traffic_Incidents.csv')\n",
        "df_traffic.head()"
      ],
      "metadata": {
        "id": "dboGhLlzY94F"
      },
      "execution_count": null,
      "outputs": []
    },
    {
      "cell_type": "code",
      "source": [
        "# Group the DataFrame by 'INCIDENT INFO' and calculate the count of each incident\n",
        "df_Incident_Count = df_traffic.groupby('INCIDENT INFO').size().reset_index(name='Count')\n",
        "\n",
        "# Sort the incident count DataFrame in descending order by 'Count' column\n",
        "df_Incident_Count = df_Incident_Count.sort_values(by='Count', ascending=False).head(15)\n",
        "\n",
        "# Display the top 15 incidents with their respective counts\n",
        "display(df_Incident_Count)"
      ],
      "metadata": {
        "id": "fBuvG5e1Z5dD"
      },
      "execution_count": null,
      "outputs": []
    },
    {
      "cell_type": "code",
      "source": [
        "import seaborn as sns\n",
        "import matplotlib.pyplot as plt\n",
        "\n",
        "# Create a figure and axes for the bar plot\n",
        "fig, ax = plt.subplots(figsize=(12, 4.5))\n",
        "\n",
        "# Create a bar plot using seaborn with a pastel color palette\n",
        "sns.barplot(y='INCIDENT INFO',\n",
        "            x='Count',\n",
        "            data=df_Incident_Count,\n",
        "            palette='pastel',\n",
        "            ax=ax,\n",
        "            edgecolor='k')\n",
        "\n",
        "# Set labels and title for the plot\n",
        "ax.set(ylabel = '',title='Analysis of Most Frequent Traffic Incident Locations in Calgary (Since 2016)',\n",
        "      xlim = [0, 140])\n",
        "\n",
        "# Add grid lines to the x-axis for better visualization\n",
        "ax.xaxis.grid(True, linestyle='--', alpha=0.7)\n",
        "\n",
        "# Adjust the plot layout for better presentation\n",
        "plt.tight_layout()"
      ],
      "metadata": {
        "id": "OGN7S0iWZ7SU"
      },
      "execution_count": null,
      "outputs": []
    },
    {
      "cell_type": "code",
      "source": [
        "# Grouping the DataFrame by 'QUADRANT' and calculating the count of each quadrant\n",
        "df_Incident_Count = df_traffic.groupby('QUADRANT').size().reset_index(name='Count')\n",
        "\n",
        "# Sorting the quadrant count DataFrame by the 'QUADRANT' column\n",
        "df_Incident_Count = df_Incident_Count.sort_values(by='QUADRANT')\n",
        "\n",
        "# Displaying the quadrant counts\n",
        "display(df_Incident_Count)"
      ],
      "metadata": {
        "id": "MiWHWwYeabGj"
      },
      "execution_count": null,
      "outputs": []
    },
    {
      "cell_type": "code",
      "source": [
        "# Import the necessary libraries for data visualization\n",
        "import seaborn as sns\n",
        "import matplotlib.pyplot as plt\n",
        "\n",
        "# Create a figure and axes for the bar plot\n",
        "fig, ax = plt.subplots(figsize=(4.5, 4.5))\n",
        "\n",
        "# Generate a bar plot using seaborn with a pastel color palette\n",
        "sns.barplot(x='QUADRANT',\n",
        "            y='Count',\n",
        "            palette='Reds',\n",
        "            data=df_Incident_Count,\n",
        "            ax=ax,\n",
        "            edgecolor='DarkRed',\n",
        "            lw=3)\n",
        "\n",
        "# Set labels and title for the plot\n",
        "ax.set_title('Analysis of the Frequency of Traffic\\nIncidents by QUADRANT in Calgary (Since 2016)',\n",
        "             weight='bold', y = 1.01)\n",
        "\n",
        "# Set the y-axis limits to enhance data visibility\n",
        "ax.set_ylim([0, 10000])\n",
        "\n",
        "# Add grid lines to the y-axis for improved visualization\n",
        "ax.yaxis.grid(True, linestyle='--', alpha=0.7)\n",
        "\n",
        "# Adjust the plot layout for better presentation\n",
        "plt.tight_layout()"
      ],
      "metadata": {
        "id": "nfZ9c9NTadHF"
      },
      "execution_count": null,
      "outputs": []
    },
    {
      "cell_type": "markdown",
      "source": [
        "## References\n",
        "\n",
        "- A. Pajankar. Hands-on Matplotlib: Learn Plotting and Visualizations with Python 3. Apress, 2021. ISBN 9781484274095. URL: https://books.google.ca/books?id=kUCZzgEACAAJ.\n",
        "\n",
        "\n",
        "- Matplotlib Developers. Matplotlib 3.7.2 documentation. https://matplotlib.org/stable/index.html, 2023. [Online; accessed 14-January-2023].\n",
        "\n",
        "\n",
        "- Michael L. Waskom. Seaborn: statistical data visualization. Journal of Open Source Software, 6(60):3021, 2021. URL: https://doi.org/10.21105/joss.03021, doi:10.21105/joss.03021."
      ],
      "metadata": {
        "id": "u8k_AJA1E8tz"
      }
    }
  ]
}