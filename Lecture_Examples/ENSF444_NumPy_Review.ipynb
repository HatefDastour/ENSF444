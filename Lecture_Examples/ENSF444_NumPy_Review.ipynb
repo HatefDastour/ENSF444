{
  "cells": [
    {
      "cell_type": "markdown",
      "source": [
        "# Basics of Numpy\n"
      ],
      "metadata": {
        "id": "KtH58GvpRJ43"
      }
    },
    {
      "cell_type": "markdown",
      "metadata": {
        "id": "CH30BhIzyq-3"
      },
      "source": [
        "## Importing NumPy\n",
        "To use NumPy in your Python script or interactive session, you need to import it first:"
      ]
    },
    {
      "cell_type": "code",
      "execution_count": null,
      "metadata": {
        "id": "RfF1FN5H0E-I"
      },
      "outputs": [],
      "source": [
        "import numpy as np"
      ]
    },
    {
      "cell_type": "markdown",
      "metadata": {
        "id": "MKHb5aS-0E-J"
      },
      "source": [
        "## Creating NumPy Arrays\n",
        "\n",
        "NumPy's primary data structure is the ndarray (N-dimensional array). You can create a NumPy array using various methods, such as using [numpy.array](https://numpy.org/doc/stable/reference/generated/numpy.array.html):\n"
      ]
    },
    {
      "cell_type": "code",
      "execution_count": null,
      "metadata": {
        "id": "57RwMvKA0E-K"
      },
      "outputs": [],
      "source": [
        "import numpy as np\n",
        "from pprint import pprint\n",
        "\n",
        "# a list\n",
        "list1 = [1, 2, 3, 4, 5, 6]\n",
        "# From list1\n",
        "arr1 = np.array(list1)\n",
        "print(\"Array:\")\n",
        "pprint(arr1)"
      ]
    },
    {
      "cell_type": "markdown",
      "source": [
        "Observe that here\n",
        "\n",
        "| Column 0 | Column 1 | Column 2 | Column 3 | Column 1 | Column 5 |\n",
        "|----------|----------|----------|----------|----------|----------|\n",
        "| 1        | 2        | 3        | 4        | 5        | 6        |"
      ],
      "metadata": {
        "id": "WTMCP70OLylv"
      }
    },
    {
      "cell_type": "code",
      "source": [
        "# From nested lists\n",
        "arr2 = np.array([[1, 2, 3], [4, 5, 6]], dtype = 'int16')\n",
        "print(\"Array from nested lists:\")\n",
        "pprint(arr2)"
      ],
      "metadata": {
        "id": "yvyg6SlYTDG9"
      },
      "execution_count": null,
      "outputs": []
    },
    {
      "cell_type": "markdown",
      "source": [
        "Observe that here\n",
        "\n",
        "|       | Column 0 | Column 1 | Column 2 |\n",
        "|:-----:|:--------:|:--------:|:--------:|\n",
        "| Row 0 |     1    |     2    |     3    |\n",
        "| Row 1 |     4    |     5    |     6    |"
      ],
      "metadata": {
        "id": "R8xOjLrbMDzn"
      }
    },
    {
      "cell_type": "markdown",
      "source": [
        "## Indexing and Slicing\n",
        "\n",
        "One of the fundamental strengths of NumPy arrays lies in their versatility when it comes to accessing specific elements or subarrays. Utilizing indexing and slicing, you can navigate through the array's contents efficiently and precisely.\n",
        "\n",
        "<font color='Blue'><b>Example - Integer Array Indexing:</b></font>"
      ],
      "metadata": {
        "id": "r82K_et4TfAv"
      }
    },
    {
      "cell_type": "code",
      "source": [
        "import numpy as np\n",
        "from pprint import pprint\n",
        "\n",
        "# Creating an array\n",
        "arr = np.array([10, 20, 30, 40, 50])\n",
        "\n",
        "# Accessing elements\n",
        "element_at_index_0 = arr[0]   # Output: 10\n",
        "element_at_last_index = arr[-1]  # Output: 50\n",
        "\n",
        "print(\"Accessing elements:\")\n",
        "print(f\"Element at index 0: {element_at_index_0}\")\n",
        "print(f\"Element at last index: {element_at_last_index}\")\n",
        "\n",
        "# Slicing\n",
        "sliced_arr = arr[1:4]  # Output: [20, 30, 40]\n",
        "\n",
        "print(\"\\nSlicing:\")\n",
        "pprint(sliced_arr)"
      ],
      "metadata": {
        "id": "huIpu1g6TzsQ"
      },
      "execution_count": null,
      "outputs": []
    },
    {
      "cell_type": "markdown",
      "source": [
        "<font color='Blue'><b>Example - Boolean Array Indexing:</b></font>"
      ],
      "metadata": {
        "id": "wYNmZx7PXJzL"
      }
    },
    {
      "cell_type": "code",
      "source": [
        "import numpy as np\n",
        "from pprint import pprint\n",
        "\n",
        "# Create a NumPy array\n",
        "data = np.array([10, 20, 30, 40, 50])\n",
        "\n",
        "# Create a Boolean array for indexing (select elements greater than 30)\n",
        "boolean_index = data > 30\n",
        "\n",
        "# Print a message to illustrate Boolean array indexing\n",
        "print(\"Boolean Array Indexing Example:\")\n",
        "\n",
        "# Print the original array\n",
        "print(\"Original Array:\")\n",
        "pprint(data)\n",
        "\n",
        "# Print the Boolean index, which represents elements greater than 30 as True and others as False\n",
        "print(\"\\nBoolean Index:\")\n",
        "pprint(boolean_index)\n",
        "\n",
        "# Use Boolean array indexing to select specific elements greater than 30\n",
        "selected_elements = data[boolean_index]\n",
        "\n",
        "# Print the selected elements\n",
        "print(\"\\nSelected Elements (greater than 30):\")\n",
        "pprint(selected_elements)"
      ],
      "metadata": {
        "id": "d4aOPgzVXMlt"
      },
      "execution_count": null,
      "outputs": []
    },
    {
      "cell_type": "markdown",
      "metadata": {
        "id": "uaV6N7As0E-L"
      },
      "source": [
        "## NumPy Create Functions\n",
        "\n",
        "\n",
        "1. **numpy.zeros()** and **numpy.ones()**: These functions create arrays filled with zeros or ones, respectively, which can be used as placeholders for data or for initializing matrices.\n",
        "\n",
        "1. **numpy.arange()**: It generates evenly spaced values within a specified range, which is particularly useful for creating sequences of numbers.\n",
        "\n",
        "1. **numpy.linspace()**: This function creates an array of evenly spaced values over a specified range, which can be useful for creating data points for plotting."
      ]
    },
    {
      "cell_type": "code",
      "source": [
        "import numpy as np\n",
        "from pprint import pprint\n",
        "\n",
        "# Generate an array of zeros with a size of 10\n",
        "print(\"Zeros Array:\")\n",
        "arr_zeros = np.zeros(10)\n",
        "pprint(arr_zeros)\n",
        "\n",
        "# Generate an array of ones with a size of 6\n",
        "print(\"\\nOnes Array:\")\n",
        "arr_ones = np.ones(6)\n",
        "pprint(arr_ones)\n",
        "\n",
        "# Use numpy.arange() to generate an array of values from 0 to 9\n",
        "print(\"\\nArange Array:\")\n",
        "arr_arange = np.arange(10)\n",
        "# Print the resulting array\n",
        "pprint(arr_arange)\n",
        "\n",
        "# Use numpy.linspace() to create an array of 5 evenly spaced values between 0 and 1\n",
        "print(\"\\nLinspace Array:\")\n",
        "arr_linspace = np.linspace(0, 1, 5)\n",
        "pprint(arr_linspace)"
      ],
      "metadata": {
        "id": "On0wIQWbO2N3"
      },
      "execution_count": null,
      "outputs": []
    },
    {
      "cell_type": "markdown",
      "source": [
        "## NumPy Size Functions\n",
        "\n",
        "1. **numpy.shape()**: This method serves the purpose of providing the dimensions of a numpy array, thereby facilitating a comprehensive comprehension of the size and structural attributes inherent in the dataset.\n",
        "\n",
        "1. **numpy.reshape()**: This function enables the alteration of the configuration of a numpy array, a pivotal operation when preparing data for diverse analytical processes or visual representations.\n",
        "\n",
        "1. **numpy.ndim**: This attribute furnishes the number of dimensions possessed by a numpy array, delivering crucial information about the inherent structure of the data.\n",
        "\n",
        "1. **numpy.size**: A method that returns the total number of elements in a numpy array, aiding in the assessment of the overall magnitude of the dataset."
      ],
      "metadata": {
        "id": "CwTlpddyOldu"
      }
    },
    {
      "cell_type": "code",
      "source": [
        "import numpy as np\n",
        "from pprint import pprint\n",
        "\n",
        "# Example for numpy.shape()\n",
        "print(\"Shape Example:\")\n",
        "arr_shape = np.array([[1, 2, 3], [4, 5, 6]])\n",
        "shape_result = np.shape(arr_shape)\n",
        "print(shape_result)\n",
        "\n",
        "# Example for numpy.reshape()\n",
        "print(\"\\nReshape Example:\")\n",
        "arr_reshape = np.array([1, 2, 3, 4, 5, 6])\n",
        "reshaped_arr = np.reshape(arr_reshape, (2, 3))\n",
        "pprint(reshaped_arr)\n",
        "\n",
        "# Example for numpy.ndim\n",
        "print(\"\\nNdim Example:\")\n",
        "arr_ndim = np.array([1, 2, 3, 4, 5, 6])\n",
        "ndim_result = np.ndim(arr_ndim)\n",
        "print(ndim_result)\n",
        "\n",
        "# Example for numpy.size\n",
        "print(\"\\nSize Example:\")\n",
        "arr_size = np.array([[1, 2, 3], [4, 5, 6]])\n",
        "size_result = np.size(arr_size)\n",
        "print(size_result)"
      ],
      "metadata": {
        "id": "2i0q25LXOkAo"
      },
      "execution_count": null,
      "outputs": []
    },
    {
      "cell_type": "markdown",
      "source": [
        "## Basic Operations\n",
        "\n",
        "1.  **numpy.mean()**, **numpy.median()**, and **numpy.std()**: calculate\n",
        "    the mean, median, and standard deviation, respectively.\n",
        "\n",
        "1.  **numpy.sum()** and **numpy.prod()**: compute the sum and product of\n",
        "    array elements, respectively.\n",
        "\n",
        "1.  **numpy.min()** and **numpy.max()**: return the minimum and maximum\n",
        "    values in a numpy array, respectively.\n",
        "\n",
        "1.  **numpy.dot()** and **numpy.matmul()**: used for matrix\n",
        "    multiplication, respectively.\n",
        "\n",
        "1.  **NumPy.concatenate()**: combines multiple arrays along specified\n",
        "    axes.\n",
        "\n",
        "1.  **NumPy.random()**: generates random numbers and random arrays.\n",
        "\n",
        "1.  **numpy.where()**: employed to locate the indices where a specified\n",
        "    condition is met within a numpy array.\n"
      ],
      "metadata": {
        "id": "GER5cGXdR_NB"
      }
    },
    {
      "cell_type": "code",
      "source": [
        "import numpy as np\n",
        "from pprint import pprint\n",
        "\n",
        "# Example for numpy.mean(), numpy.median(), and numpy.std()\n",
        "print(\"Mean, Median, and Standard Deviation Example:\")\n",
        "data = np.array([10, 15, 20, 25, 30])\n",
        "mean_result = np.mean(data)\n",
        "median_result = np.median(data)\n",
        "std_result = np.std(data)\n",
        "print(f\"Mean = {mean_result:.2f}, Median = {median_result:.2f}, and Standard Deviation = {std_result:.2f}\")\n",
        "\n",
        "# Example for numpy.sum() and numpy.prod()\n",
        "print(\"\\nSum and Product Example:\")\n",
        "numbers = np.array([2, 3, 4])\n",
        "sum_result = np.sum(numbers)\n",
        "prod_result = np.prod(numbers)\n",
        "print(f\"sum_result = {sum_result} and prod_result = {prod_result}\")\n",
        "\n",
        "# Example for numpy.min() and numpy.max()\n",
        "print(\"\\nMin and Max Example:\")\n",
        "values = np.array([5, 10, 3, 8])\n",
        "min_value = np.min(values)\n",
        "max_value = np.max(values)\n",
        "print(f\"min_value = {min_value} and max_value = {max_value}\")\n",
        "\n",
        "# Example for numpy.dot() and numpy.matmul()\n",
        "print(\"\\nDot and Matmul Example:\")\n",
        "matrix_a = np.array([[1, 2], [3, 4]])\n",
        "matrix_b = np.array([[5, 6], [7, 8]])\n",
        "dot_result = np.dot(matrix_a, matrix_b)\n",
        "print(\"A. B = \")\n",
        "pprint(dot_result)\n",
        "print(\"A * B = \")\n",
        "matmul_result = np.matmul(matrix_a, matrix_b)\n",
        "pprint(matmul_result)\n",
        "\n",
        "# Example for numpy.concatenate()\n",
        "print(\"\\nConcatenate Example:\")\n",
        "array1 = np.array([1, 2, 3])\n",
        "array2 = np.array([4, 5, 6])\n",
        "concatenated_result = np.concatenate((array1, array2))\n",
        "print(concatenated_result)\n",
        "\n",
        "# Example for numpy.random()\n",
        "print(\"\\nRandom Example:\")\n",
        "random_array = np.random.rand(3, 2)\n",
        "pprint(random_array)\n",
        "# Output: A 3x2 array with random values\n",
        "\n",
        "# Example for numpy.where()\n",
        "print(\"\\nWhere Example:\")\n",
        "data_array = np.array([1, 2, 3, 4, 5])\n",
        "indices = np.where(data_array > 2)\n",
        "selected_values = data_array[indices]\n",
        "print(indices, selected_values)"
      ],
      "metadata": {
        "id": "9zRL8dsaSEvm"
      },
      "execution_count": null,
      "outputs": []
    },
    {
      "cell_type": "markdown",
      "source": [
        "## Saving NumPy Arrays"
      ],
      "metadata": {
        "id": "R_yEnyOiUOG8"
      }
    },
    {
      "cell_type": "markdown",
      "source": [
        "Save NumPy array data efficiently by employing the following code snippet. Store the array, denoted as \"arr,\" in a file named \"test.npy,\" and subsequently reload the file into the code. The process involves creating a NumPy array, utilizing the `np.save` function to store it in the specified file, and later employing `np.load` to retrieve the data into the variable \"loaded_array.\" The example below illustrates this process:"
      ],
      "metadata": {
        "id": "Ono5udHyUepE"
      }
    },
    {
      "cell_type": "code",
      "source": [
        "import numpy as np\n",
        "from pprint import pprint\n",
        "\n",
        "# Save and Load NumPy Array Data\n",
        "\n",
        "# Save the array 'arr' into a file named 'test.npy'\n",
        "arr = np.array([1, 2, 3, 4, 5, 6])\n",
        "np.save('test', arr)\n",
        "\n",
        "# Load the saved file back into the code\n",
        "loaded_array = np.load('test.npy')\n",
        "\n",
        "pprint(loaded_array)"
      ],
      "metadata": {
        "id": "UUA86xGNT_U8"
      },
      "execution_count": null,
      "outputs": []
    }
  ],
  "metadata": {
    "colab": {
      "provenance": []
    },
    "kernelspec": {
      "display_name": "Python 3 (ipykernel)",
      "language": "python",
      "name": "python3"
    },
    "language_info": {
      "codemirror_mode": {
        "name": "ipython",
        "version": 3
      },
      "file_extension": ".py",
      "mimetype": "text/x-python",
      "name": "python",
      "nbconvert_exporter": "python",
      "pygments_lexer": "ipython3",
      "version": "3.11.4"
    }
  },
  "nbformat": 4,
  "nbformat_minor": 0
}