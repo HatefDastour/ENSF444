{
  "nbformat": 4,
  "nbformat_minor": 0,
  "metadata": {
    "colab": {
      "provenance": []
    },
    "kernelspec": {
      "name": "python3",
      "display_name": "Python 3"
    },
    "language_info": {
      "name": "python"
    }
  },
  "cells": [
    {
      "cell_type": "markdown",
      "source": [
        "# Text Data"
      ],
      "metadata": {
        "id": "5WMfms9RqCv9"
      }
    },
    {
      "cell_type": "markdown",
      "source": [
        "## Types of Datasets\n",
        "   - **Numerical Dataset:** Contains measurable quantities and can be analyzed mathematically. Examples include temperature, humidity, and test scores.\n",
        "   - **Categorical Dataset:** Comprises a set of categories or groups. Examples are colors, product categories, and yes/no responses.\n",
        "   - **Time Series Dataset:** Captures data points at successive time intervals. Useful for analyzing trends over time.\n",
        "   - **Image Dataset:** Consists of image files, often used in computer vision tasks to identify patterns or objects.\n",
        "   - **Text Dataset:** Includes collections of words, sentences, or documents, typically analyzed for linguistic patterns or content.\n",
        "\n",
        "   and many more"
      ],
      "metadata": {
        "id": "M0KhlTUN0loL"
      }
    },
    {
      "cell_type": "markdown",
      "source": [
        "## Text Data\n",
        "\n",
        "1. **Understanding Text Data:**\n",
        "   - Text data is composed of sequences of characters, forming words, sentences, or paragraphs.\n",
        "   - It varies in length and complexity, often containing nuanced linguistic features.\n",
        "\n",
        "2. **Text vs. Categorical Data:**\n",
        "   - Strings of characters can represent different types of data.\n",
        "   - Categorical data is derived from a predefined set of options, such as 'red' or 'blue', 'yes' or 'no'.\n",
        "   - Text data, however, is more fluid, often forming meaningful phrases or sentences that convey complex ideas.\n",
        "\n",
        "3. **Analyzing Text: Corpus and Documents:**\n",
        "   - Text analysis typically involves examining a large body of text, known as a [corpus](https://en.wikipedia.org/wiki/Text_corpus).\n",
        "   - Within this corpus, each individual text entry, whether an article, social media post, or review, is termed a **document**."
      ],
      "metadata": {
        "id": "OGv7gQunOqRW"
      }
    },
    {
      "cell_type": "markdown",
      "source": [
        "## What is bag-of-words?\n",
        "\n",
        "Bag-of-words is a technique in natural language processing where we ignore the structure of input text and focus solely on word occurrences. It’s like mentally holding a bag of words and counting how many times each word appears in a document."
      ],
      "metadata": {
        "id": "Q74ClDrxPQk1"
      }
    },
    {
      "cell_type": "markdown",
      "source": [
        "## Steps for bag-of-words representation\n",
        "\n",
        "1. **Tokenization**:\n",
        "   - **Tokenization** is the process of splitting each document (text) into individual words or tokens.\n",
        "   - We achieve this by breaking the text at whitespace, punctuation marks, or other delimiters.\n",
        "\n",
        "2. **Vocabulary Building**:\n",
        "   - Next, we create a **vocabulary** containing all unique words (tokens) that appear in any of the documents.\n",
        "   - Each word is assigned a unique **index** (usually in alphabetical order).\n",
        "\n",
        "3. **Encoding**:\n",
        "   - For each document, we count how often each word from the vocabulary appears in that document.\n",
        "   - The resulting vector represents the word frequencies (counts) for that document."
      ],
      "metadata": {
        "id": "7EOXWuoQPz2y"
      }
    },
    {
      "cell_type": "markdown",
      "source": [
        "## Implementing Bag-of-Words\n",
        "\n",
        "In the scikit-learn library, the [CountVectorizer](https://scikit-learn.org/stable/modules/generated/sklearn.feature_extraction.text.CountVectorizer.html) is utilized to transform text data into a bag-of-words representation.\n",
        "\n",
        "The `CountVectorizer` method standardizes all text data to lowercase, ensuring that words with identical spellings are recognized as the same token."
      ],
      "metadata": {
        "id": "-1q3i1R-7q36"
      }
    },
    {
      "cell_type": "markdown",
      "source": [
        "<font color='Blue'><b>Example:</b></font> Let's create a simple example of the Bag-of-Words (BoW) model using text related to Calgary. We'll follow the steps mentioned earlier:"
      ],
      "metadata": {
        "id": "zwaO-Qz2v1K_"
      }
    },
    {
      "cell_type": "markdown",
      "source": [
        "Each Tokenization can be done as follows"
      ],
      "metadata": {
        "id": "0lfKx3Ih0zK5"
      }
    },
    {
      "cell_type": "code",
      "source": [
        "# Import the necessary libraries\n",
        "from sklearn.feature_extraction.text import CountVectorizer\n",
        "\n",
        "# Step 0: Collect Data\n",
        "# Define the documents\n",
        "docs = [\"Calgary is known for its annual Stampede.\",\n",
        "        \"The Calgary Tower offers stunning views of the city.\",\n",
        "        \"Calgary's weather can be unpredictable.\"\n",
        "        ]\n",
        "\n",
        "# Initialize the CountVectorizer\n",
        "vectorizer = CountVectorizer()\n",
        "\n",
        "tokenizer = vectorizer.build_analyzer()\n",
        "for (i, doc) in enumerate(docs, 1):\n",
        "    print(f'\\nDoc {i}:')\n",
        "    print(\"Original document:\")\n",
        "    print(doc)\n",
        "    print(\"Tokenized document:\")\n",
        "    print(tokenizer(doc))"
      ],
      "metadata": {
        "id": "mVgOiI_H0OVN"
      },
      "execution_count": null,
      "outputs": []
    },
    {
      "cell_type": "code",
      "source": [
        "# Import the necessary libraries\n",
        "from sklearn.feature_extraction.text import CountVectorizer\n",
        "import pandas as pd\n",
        "\n",
        "# Step 0: Collect Data\n",
        "# Define the documents\n",
        "docs = [\"Calgary is known for its annual Stampede.\",\n",
        "        \"The Calgary Tower offers stunning views of the city.\",\n",
        "        \"Calgary's weather can be unpredictable.\"\n",
        "        ]\n",
        "\n",
        "# Initialize the CountVectorizer\n",
        "vectorizer = CountVectorizer()\n",
        "\n",
        "# Fit the vectorizer to the documents\n",
        "vectorizer.fit(docs)\n",
        "\n",
        "# Transform the documents into a bag-of-words matrix\n",
        "bag_of_words = vectorizer.transform(docs)\n",
        "\n",
        "# Get the feature names (vocabulary)\n",
        "feature_names = vectorizer.get_feature_names_out()\n",
        "print('Feature Names (Vocabulary): ' + ', '.join(feature_names))\n",
        "\n",
        "# Display the vocabulary size and content\n",
        "print(f\"Vocabulary size: {len(vectorizer.vocabulary_)}\")\n",
        "print(f\"Vocabulary content: {vectorizer.vocabulary_}\")\n",
        "\n",
        "# Display the dense representation of the bag_of_words\n",
        "# print(\"Dense representation of bag_of_words:\\n{}\".format(bag_of_words.toarray()))\n",
        "\n",
        "# Create a DataFrame from the BoW matrix\n",
        "df_bow = pd.DataFrame(bag_of_words.toarray(), columns=feature_names)\n",
        "\n",
        "# Display the DataFrame\n",
        "display(df_bow)"
      ],
      "metadata": {
        "id": "U0NUjcLFv2jx"
      },
      "execution_count": null,
      "outputs": []
    },
    {
      "cell_type": "markdown",
      "source": [
        "<font color='Blue'><b>Example:</b></font> Example: Bag-of-Words (BoW) Model Using Text Related to Calgary with **repeating words**"
      ],
      "metadata": {
        "id": "nKkejZAs2JSL"
      }
    },
    {
      "cell_type": "code",
      "source": [
        "from sklearn.feature_extraction.text import CountVectorizer\n",
        "import pandas as pd\n",
        "\n",
        "# Define a list of sentences with repeating words related to the city of Calgary\n",
        "# This list will be used to demonstrate how the Bag-of-Words model handles repetition\n",
        "repeating_words = [\"Calgary, Calgary, a city so vibrant, so vibrant.\",\n",
        "                   \"The Rockies, the Rockies, so majestic, so majestic.\"\n",
        "                   ]\n",
        "\n",
        "# Initialize a CountVectorizer object to convert the text data into a matrix of token counts\n",
        "# The CountVectorizer will tokenize the text and count the occurrences of each token\n",
        "vect = CountVectorizer()\n",
        "\n",
        "# Fit the vectorizer to the list of sentences to build the vocabulary\n",
        "# The vocabulary consists of all unique tokens in the text\n",
        "vect.fit(repeating_words)\n",
        "\n",
        "# Display the vocabulary that has been learned from the input documents\n",
        "# The vocabulary is a dictionary where keys are tokens and values are their corresponding indices\n",
        "print(f\"Vocabulary learned from the documents: {vect.vocabulary_}\")\n",
        "\n",
        "# Transform the list of sentences into a bag-of-words matrix\n",
        "# Each row in the matrix represents a document, and each column represents a token from the vocabulary\n",
        "# The values in the matrix are the frequency counts of the tokens in each document\n",
        "bag_of_words = vect.transform(repeating_words)\n",
        "\n",
        "# Convert the bag-of-words matrix into a pandas DataFrame for better visualization\n",
        "# The DataFrame makes it easier to see the token frequencies in tabular form\n",
        "df_bow = pd.DataFrame(bag_of_words.toarray(), columns=vect.get_feature_names_out())\n",
        "\n",
        "# Display the DataFrame that shows the frequency of each word in the given sentences\n",
        "# This DataFrame is useful for understanding the distribution of tokens across the documents\n",
        "print(\"DataFrame showing the Bag-of-Words matrix:\")\n",
        "display(df_bow)"
      ],
      "metadata": {
        "id": "j45W0xAg2GTe"
      },
      "execution_count": null,
      "outputs": []
    },
    {
      "cell_type": "markdown",
      "source": [
        "## Enhancing Bag-of-Words: Stopword Removal\n",
        "\n",
        "In the Bag-of-Words (BoW) model, certain words are so common that they carry minimal useful information about the actual content of the document. These words, known as 'stopwords', can be removed to improve the analysis. There are two primary methods to eliminate stopwords:\n",
        "\n",
        "1. Utilizing a predefined list of stopwords specific to a language.\n",
        "2. Excluding words that appear too frequently across the documents.\n",
        "\n",
        "The scikit-learn library provides a built-in English stopword list in the `feature_extraction.text` module. This list can be used to filter out stopwords from the text data during the vectorization process, resulting in a more meaningful BoW representation.\n"
      ],
      "metadata": {
        "id": "h-zHJMcW3nVr"
      }
    },
    {
      "cell_type": "code",
      "source": [
        "# Import the set of English stop words from scikit-learn's feature_extraction.text module\n",
        "from sklearn.feature_extraction.text import ENGLISH_STOP_WORDS\n",
        "\n",
        "# Display the total number of stop words provided in the scikit-learn's list\n",
        "print(f\"Number of stop words: {len(ENGLISH_STOP_WORDS)}\")\n",
        "\n",
        "# To provide a sample of this list, print every 20th stop word\n",
        "# This gives an idea of what kind of words are considered as stop words\n",
        "print(\"Every 20th stopword:\")\n",
        "print(list(ENGLISH_STOP_WORDS)[::20])"
      ],
      "metadata": {
        "id": "__VObSvv2OH2"
      },
      "execution_count": null,
      "outputs": []
    },
    {
      "cell_type": "code",
      "source": [
        "docs_ext = docs + repeating_words\n",
        "vect = CountVectorizer(stop_words = \"english\")\n",
        "vect.fit(docs_ext)\n",
        "bag_of_words = vect.transform(docs_ext)\n",
        "pd.DataFrame(bag_of_words.toarray(), columns=vect.get_feature_names_out())"
      ],
      "metadata": {
        "id": "yknRhNKz3pnJ"
      },
      "execution_count": null,
      "outputs": []
    },
    {
      "cell_type": "markdown",
      "source": [
        "## Understanding TfidfVectorizer\n",
        "\n",
        "`TfidfVectorizer` is an advanced feature extraction tool from the scikit-learn library that converts text data into a numerical matrix of TF-IDF features, suitable for use in machine learning models.\n",
        "\n",
        "- **TF (Term Frequency)**: This quantifies the frequency of a term within a single document, giving higher weight to terms that occur more frequently.\n",
        "\n",
        "- **IDF (Inverse Document Frequency)**: This assesses the significance of a term across the entire document corpus. It diminishes the weight of terms that occur very commonly across documents, thereby amplifying the importance of rarer terms. The IDF for a term is calculated by taking the logarithm of the ratio of the total number of documents to the number of documents containing the term.\n",
        "\n",
        "- **TF-IDF**: This metric is the product of TF and IDF, reflecting the term's significance within a particular document relative to the entire collection of documents. A term's TF-IDF score increases with its frequency in a document but is balanced by its commonality across all documents.\n",
        "\n",
        "<font color='Blue'><b>Example:</b></font>[link text](https://)"
      ],
      "metadata": {
        "id": "vtWleuve4xSp"
      }
    },
    {
      "cell_type": "code",
      "source": [
        "from sklearn.feature_extraction.text import TfidfVectorizer\n",
        "import pandas as pd\n",
        "\n",
        "# Sample extended documents related to Calgary\n",
        "docs_ext = docs + repeating_words\n",
        "\n",
        "# Initialize the TfidfVectorizer with English stop words to be filtered out\n",
        "vectorizer = TfidfVectorizer(stop_words = \"english\")\n",
        "\n",
        "# Fit the vectorizer to the documents to learn the vocabulary\n",
        "vectorizer.fit(docs_ext)\n",
        "\n",
        "# Display the size and content of the learned vocabulary\n",
        "print(f\"Vocabulary size: {len(vectorizer.vocabulary_)}\")\n",
        "print(\"Vocabulary content:\")\n",
        "print(vectorizer.vocabulary_)\n",
        "\n",
        "# Transform the documents into a TF-IDF-weighted term-document matrix\n",
        "tfidf_matrix = vectorizer.transform(docs_ext)\n",
        "\n",
        "# Retrieve and display the feature names (vocabulary)\n",
        "print(\"\\nFeature names:\")\n",
        "print(vectorizer.get_feature_names_out())\n",
        "\n",
        "# Display the TF-IDF matrix as a dense array\n",
        "# print(\"\\nTF-IDF matrix:\")\n",
        "# print(tfidf_matrix.toarray())\n",
        "\n",
        "# Convert the TF-IDF matrix into a DataFrame for better readability\n",
        "tfidf_df = pd.DataFrame(tfidf_matrix.toarray(), columns=vectorizer.get_feature_names_out())\n",
        "\n",
        "# Display the DataFrame\n",
        "print(\"\\nDataFrame representation of the TF-IDF matrix:\")\n",
        "display(tfidf_df.round(3))"
      ],
      "metadata": {
        "id": "00oGy2pW45ix"
      },
      "execution_count": null,
      "outputs": []
    },
    {
      "cell_type": "markdown",
      "source": [
        "The numbers in the table represent the **TF-IDF (Term Frequency-Inverse Document Frequency) scores** for various terms across different documents. Here's what they indicate:\n",
        "\n",
        "- **Columns**: Each column header represents a unique term (e.g., 'annual', 'calgary', 'city', etc.).\n",
        "- **Rows**: Each row corresponds to a different document (e.g., Document 0, Document 1, etc.).\n",
        "- **Values**: The numerical values are the TF-IDF scores, which measure how important a term is to a document in a collection. A score of **0** means the term does not appear in the document, while higher scores indicate greater importance.\n",
        "\n",
        "For example, in Document 0, the terms 'annual', 'known', and 'stampede' have a score of **0.549**, suggesting they are significant in that document. Conversely, the term 'city' has a score of **0**, indicating it does not appear in Document 0."
      ],
      "metadata": {
        "id": "vFBJVax6OWch"
      }
    },
    {
      "cell_type": "markdown",
      "source": [
        "## Expanding Bag-of-Words with n-Grams\n",
        "\n",
        "The Bag-of-Words (BoW) model is a simple yet powerful way to represent text data for machine learning. However, it has a significant limitation: it ignores word order. For example, \"it's bad, not good at all\" and \"it's good, not bad at all\" would have identical BoW representations despite their opposite meanings. This is where n-grams come into play.\n",
        "\n",
        "### Capturing Context with n-Grams\n",
        "\n",
        "To capture more context, we can extend the BoW model to consider sequences of words:\n",
        "- **Bigrams**: Pairs of consecutive words.\n",
        "- **Trigrams**: Triplets of consecutive words.\n",
        "- **n-Grams**: Sequences of 'n' consecutive words.\n",
        "\n",
        "\n",
        "### Implementing n-Grams with CountVectorizer\n",
        "\n",
        "The `CountVectorizer` and `TfidfVectorizer` classes in scikit-learn can be configured to use n-grams by setting the `ngram_range` parameter. Here's how you can do it:"
      ],
      "metadata": {
        "id": "5o6NfhWUBQzp"
      }
    },
    {
      "cell_type": "code",
      "source": [
        "docs = [\"Calgary is known for its annual Stampede.\",\n",
        "        \"The Calgary Tower offers stunning views of the city.\",\n",
        "        \"Calgary's weather can be unpredictable.\"\n",
        "        ]\n",
        "\n",
        "vectorizer = CountVectorizer(ngram_range=(1, 1), stop_words = \"english\").fit(docs)\n",
        "# ngram_rangetuple (min_n, max_n), default=(1, 1)\n",
        "print(f\"Vocabulary size: {vectorizer.vocabulary_}\")\n",
        "print(f\"Vocabulary:\")\n",
        "print(vectorizer.get_feature_names_out())\n",
        "\n",
        "ngram_words = vectorizer.transform(docs)\n",
        "pd.DataFrame(ngram_words.toarray(), columns= vectorizer.get_feature_names_out())"
      ],
      "metadata": {
        "id": "8NRco_26BRDz"
      },
      "execution_count": null,
      "outputs": []
    },
    {
      "cell_type": "code",
      "source": [
        "from pprint import pprint\n",
        "vectorizer = CountVectorizer(ngram_range=(2, 2), stop_words = \"english\").fit(docs)\n",
        "print(f\"Vocabulary size: {vectorizer.vocabulary_}\")\n",
        "print(f\"Vocabulary:\")\n",
        "pprint(vectorizer.get_feature_names_out())\n",
        "\n",
        "ngram_words = vectorizer.transform(docs)\n",
        "pd.DataFrame(ngram_words.toarray(), columns= vectorizer.get_feature_names_out())"
      ],
      "metadata": {
        "id": "UKMObZ8rBXLB"
      },
      "execution_count": null,
      "outputs": []
    },
    {
      "cell_type": "code",
      "source": [
        "vectorizer = CountVectorizer(ngram_range=(1, 2), stop_words = \"english\").fit(docs)\n",
        "print(f\"Vocabulary size: {vectorizer.vocabulary_}\")\n",
        "print(f\"Vocabulary:\")\n",
        "print(vectorizer.get_feature_names_out())\n",
        "\n",
        "ngram_words = vectorizer.transform(docs)\n",
        "pd.DataFrame(ngram_words.toarray(), columns= vectorizer.get_feature_names_out())"
      ],
      "metadata": {
        "id": "NoCR9I4XBeRx"
      },
      "execution_count": null,
      "outputs": []
    },
    {
      "cell_type": "markdown",
      "source": [
        "## Td-idf n-gram"
      ],
      "metadata": {
        "id": "ONqH_cC3CAIy"
      }
    },
    {
      "cell_type": "code",
      "source": [
        "docs = [\"Calgary is known for its annual Stampede.\",\n",
        "        \"The Calgary Tower offers stunning views of the city.\",\n",
        "        \"Calgary's weather can be unpredictable.\"\n",
        "        ]\n",
        "vect = TfidfVectorizer(ngram_range=(1,2), stop_words = \"english\")\n",
        "vect.fit(docs)\n",
        "tfidf_words = vect.transform(docs)\n",
        "df = pd.DataFrame(tfidf_words.toarray(), columns=vect.get_feature_names_out())\n",
        "display(df.round(3))"
      ],
      "metadata": {
        "id": "xKcPOIIPBr44"
      },
      "execution_count": null,
      "outputs": []
    }
  ]
}